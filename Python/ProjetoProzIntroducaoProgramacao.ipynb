{
  "nbformat": 4,
  "nbformat_minor": 0,
  "metadata": {
    "colab": {
      "provenance": [],
      "authorship_tag": "ABX9TyM3GKdJy/9qQk9AV0oYctHe",
      "include_colab_link": true
    },
    "kernelspec": {
      "name": "python3",
      "display_name": "Python 3"
    },
    "language_info": {
      "name": "python"
    }
  },
  "cells": [
    {
      "cell_type": "markdown",
      "metadata": {
        "id": "view-in-github",
        "colab_type": "text"
      },
      "source": [
        "<a href=\"https://colab.research.google.com/github/LeoRVergani/Curso-Proz/blob/main/ProjetoProzIntroducaoProgramacao.ipynb\" target=\"_parent\"><img src=\"https://colab.research.google.com/assets/colab-badge.svg\" alt=\"Open In Colab\"/></a>"
      ]
    },
    {
      "cell_type": "markdown",
      "source": [
        "Faça uma função calculadora de dois números com três parâmetros: os dois primeiros serão os números da operação e o terceiro será a entrada que definirá a operação a ser executada. Considera a seguinte definição:\n",
        "\n",
        "**1. Soma**\n",
        "**2. Subtração**\n",
        "**3. Multiplicação**\n",
        "**4. Divisão**\n",
        "\n",
        "Caso seja inserido um número de operação que não exista, o resultado deverá ser 0."
      ],
      "metadata": {
        "id": "23A54s931tYS"
      }
    },
    {
      "cell_type": "code",
      "source": [
        "\n",
        "n1 = int(input('Insira o primeiro valor: '))\n",
        "n2 = int(input('Insira o segundo valor: '))\n",
        "opcao = int(input('Escola uma opção, 1. Soma, 2.Subtração, 3. Multiplicação, 4. Divisão. '))\n",
        "\n",
        "if (opcao == 1):\n",
        "  valor = n1 + n2\n",
        "  print('O resultado da opção 1 é : {} + {} = {}'.format(n1,n2,valor))\n",
        "elif (opcao == 2):\n",
        "  valor = n1 - n2\n",
        "  print('O resultado da opção 2 é : {} - {} = {}'.format(n1,n2,valor))\n",
        "elif (opcao == 3):\n",
        "  valor = n1 * n2\n",
        "  print('O resultado da opção 3 é : {} x {} = {}'.format(n1,n2,valor))\n",
        "elif (opcao == 4):\n",
        "  valor = n1 / n2\n",
        "  print('O resultado da opção 4 é : {} / {} = {}'.format(n1,n2,valor))\n",
        "else:\n",
        "  print('Você não escolheu uma opção valida, resultado: 0')\n"
      ],
      "metadata": {
        "id": "yrbjafso3Ut9"
      },
      "execution_count": null,
      "outputs": []
    }
  ]
}