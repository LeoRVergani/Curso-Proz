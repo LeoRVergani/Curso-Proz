{
  "nbformat": 4,
  "nbformat_minor": 0,
  "metadata": {
    "colab": {
      "provenance": [],
      "authorship_tag": "ABX9TyNFCUmnqXrJALMwuT6f1YMq",
      "include_colab_link": true
    },
    "kernelspec": {
      "name": "python3",
      "display_name": "Python 3"
    },
    "language_info": {
      "name": "python"
    }
  },
  "cells": [
    {
      "cell_type": "markdown",
      "metadata": {
        "id": "view-in-github",
        "colab_type": "text"
      },
      "source": [
        "<a href=\"https://colab.research.google.com/github/LeoRVergani/Curso-Proz/blob/main/Declarando_Arrays_Proz.ipynb\" target=\"_parent\"><img src=\"https://colab.research.google.com/assets/colab-badge.svg\" alt=\"Open In Colab\"/></a>"
      ]
    },
    {
      "cell_type": "markdown",
      "source": [
        "Declare dois arrays, cada um com um mínimo de cinco elementos, e imprima eles no terminal usando o comando print(). O primeiro array deve conter os produtos de uma loja da sua escolha (loja de comida, materiais de construção, música, etc). O segundo array deve conter os anos de nascimento de familiares e amigos seus. Lembre-se de usar nomes descritivos para nomear cada variável, e de usar o tipo de dado apropriado para cada lista (strings, booleanos, números inteiros, floats).\n",
        "\n",
        "**Trabalhe esse código no Google Colab, e compartilhe o link do projeto no** **campo ao lado para que outros desenvolvedores possam analisá-lo.**"
      ],
      "metadata": {
        "id": "ioR80UocyI2D"
      }
    },
    {
      "cell_type": "code",
      "source": [
        "loja = [\"Burger\", \"Martelo\", \"Mamonas\", \"Caixa\", \"Papel\"]\n",
        "familia = [1988, 1960, 2000, 1994, 1900]\n",
        "print('Primeiro array: {}' .format(loja))\n",
        "print('Segundo array: {}' .format(familia))\n"
      ],
      "metadata": {
        "colab": {
          "base_uri": "https://localhost:8080/"
        },
        "id": "uTz3-L0l0UsI",
        "outputId": "15eaf7ad-7c56-4b43-d7e9-8ed5830262e0"
      },
      "execution_count": 12,
      "outputs": [
        {
          "output_type": "stream",
          "name": "stdout",
          "text": [
            "Primeiro array: ['Burger', 'Martelo', 'Mamonas', 'Caixa', 'Papel']\n",
            "Segundo array: [1988, 1960, 2000, 1994, 1900]\n"
          ]
        }
      ]
    }
  ]
}