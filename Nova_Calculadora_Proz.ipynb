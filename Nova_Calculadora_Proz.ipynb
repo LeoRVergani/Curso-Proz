{
  "nbformat": 4,
  "nbformat_minor": 0,
  "metadata": {
    "colab": {
      "provenance": [],
      "authorship_tag": "ABX9TyPzdYgb7f22EsJ23RsO6Dwr",
      "include_colab_link": true
    },
    "kernelspec": {
      "name": "python3",
      "display_name": "Python 3"
    },
    "language_info": {
      "name": "python"
    }
  },
  "cells": [
    {
      "cell_type": "markdown",
      "metadata": {
        "id": "view-in-github",
        "colab_type": "text"
      },
      "source": [
        "<a href=\"https://colab.research.google.com/github/LeoRVergani/Curso-Proz/blob/main/Nova_Calculadora_Proz.ipynb\" target=\"_parent\"><img src=\"https://colab.research.google.com/assets/colab-badge.svg\" alt=\"Open In Colab\"/></a>"
      ]
    },
    {
      "cell_type": "code",
      "execution_count": null,
      "metadata": {
        "id": "3d9kEbdkgIr8"
      },
      "outputs": [],
      "source": []
    },
    {
      "cell_type": "code",
      "source": [
        "\n",
        "    print('Bem vindo a calculadora online.')\n",
        "    print('Você deve digitar os valores e depois selecionar o que deseja fazer com esses valores.')\n",
        "    print('==============================================================')\n",
        "    print('== 1: Soma 2: Subtração 3: Multiplicação 4: Divisão 0: Sair ==')\n",
        "    print('==============================================================')\n",
        "    num_valido = False\n",
        "\n",
        "    while(num_valido == False):\n",
        "\n",
        "\n",
        "      num1 = int(input('Qual o primeiro valor que deseja digitar? '))\n",
        "      num2 = int(input('Qual o segundo valor que deseja digitar? '))\n",
        "      op = int(input('Qual opção deseja? '))\n",
        "\n",
        "\n",
        "      try:\n",
        "          if (op == 1):\n",
        "            res = num1 + num2\n",
        "            print('O resultado da opção 1 é {} x {} = {}.'.format(num1,num2,res))\n",
        "\n",
        "          elif (op == 2):\n",
        "            res = num1 - num2\n",
        "            print('O resultado da opção 2 é {} - {} = {}.'.format(num1,num2,res))\n",
        "\n",
        "          elif (op == 3):\n",
        "            res = num1 * num2\n",
        "            print('O resultado da opção 3 é {} x {} = {}.'.format(num1,num2,res))\n",
        "\n",
        "          elif (op == 4):\n",
        "            res = num1 / num2\n",
        "            print('O resultado da opção 4 é {} / {} = {}.'.format(num1,num2,res))\n",
        "\n",
        "          elif (op == 0):\n",
        "            print('Fim do programa. ')\n",
        "            num_valido = True\n",
        "\n",
        "          else:\n",
        "            print('Você não digitou um número válido. Tente novamente.')\n",
        "            num_valido = True\n",
        "\n",
        "      except:\n",
        "        print('Você não digitou um número. ')\n",
        "\n",
        "\n",
        "\n"
      ],
      "metadata": {
        "id": "PKz6u17aP_5P"
      },
      "execution_count": null,
      "outputs": []
    }
  ]
}