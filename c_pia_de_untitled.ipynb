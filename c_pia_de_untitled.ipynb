{
  "nbformat": 4,
  "nbformat_minor": 0,
  "metadata": {
    "colab": {
      "provenance": [],
      "include_colab_link": true
    },
    "kernelspec": {
      "name": "python3",
      "display_name": "Python 3"
    },
    "language_info": {
      "name": "python"
    }
  },
  "cells": [
    {
      "cell_type": "markdown",
      "metadata": {
        "id": "view-in-github",
        "colab_type": "text"
      },
      "source": [
        "<a href=\"https://colab.research.google.com/github/LeoRVergani/Curso-Proz/blob/main/c_pia_de_untitled.ipynb\" target=\"_parent\"><img src=\"https://colab.research.google.com/assets/colab-badge.svg\" alt=\"Open In Colab\"/></a>"
      ]
    },
    {
      "cell_type": "code",
      "execution_count": null,
      "metadata": {
        "id": "tGNpMJVvqLdb",
        "outputId": "e0167ec1-e96c-45b1-a240-fb5612f7eb0a",
        "colab": {
          "base_uri": "https://localhost:8080/"
        }
      },
      "outputs": [
        {
          "output_type": "stream",
          "name": "stdout",
          "text": [
            "Quer descobrir se o número é par ou impar? Só digitar aqui.41\n",
            "Esse número é impar\n"
          ]
        }
      ],
      "source": [
        "numero = int(input('Quer descobrir se o número é par ou impar? Só digitar aqui.'))\n",
        "resto = (numero % 2)\n",
        "if (resto == 0):\n",
        "  print('Esse número é par')\n",
        "else:\n",
        "  print('Esse número é impar')\n"
      ]
    },
    {
      "cell_type": "markdown",
      "source": [],
      "metadata": {
        "id": "bcvK5aNFKcwN"
      }
    }
  ]
}